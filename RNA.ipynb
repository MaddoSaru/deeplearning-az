{
  "nbformat": 4,
  "nbformat_minor": 0,
  "metadata": {
    "colab": {
      "name": "Untitled7.ipynb",
      "provenance": [],
      "authorship_tag": "ABX9TyPRwwdbg7FMA4jLiB3Sz7dp",
      "include_colab_link": true
    },
    "kernelspec": {
      "name": "python3",
      "display_name": "Python 3"
    }
  },
  "cells": [
    {
      "cell_type": "markdown",
      "metadata": {
        "id": "view-in-github",
        "colab_type": "text"
      },
      "source": [
        "<a href=\"https://colab.research.google.com/github/MaddoSaru/deeplearning-az/blob/master/RNA.ipynb\" target=\"_parent\"><img src=\"https://colab.research.google.com/assets/colab-badge.svg\" alt=\"Open In Colab\"/></a>"
      ]
    },
    {
      "cell_type": "markdown",
      "metadata": {
        "id": "przjLFlBJVlh",
        "colab_type": "text"
      },
      "source": [
        "# ***Deep Learning***"
      ]
    },
    {
      "cell_type": "markdown",
      "metadata": {
        "id": "kTRfIg51JZHI",
        "colab_type": "text"
      },
      "source": [
        "# **Redes Neuronales Artificiales (RNA)**"
      ]
    },
    {
      "cell_type": "markdown",
      "metadata": {
        "id": "ozIND-w8Jz7E",
        "colab_type": "text"
      },
      "source": [
        "**Parte 1 - Pre procesado de datos**"
      ]
    },
    {
      "cell_type": "code",
      "metadata": {
        "id": "SdDIB-6rJUA1",
        "colab_type": "code",
        "colab": {}
      },
      "source": [
        "# Importar librerías\n",
        "\n",
        "import numpy as np\n",
        "import matplotlib.pyplot as plt\n",
        "import pandas as pd"
      ],
      "execution_count": 3,
      "outputs": []
    },
    {
      "cell_type": "code",
      "metadata": {
        "id": "M07m_6--LFPR",
        "colab_type": "code",
        "colab": {
          "base_uri": "https://localhost:8080/",
          "height": 197
        },
        "outputId": "3a3eddd2-c03a-4478-c799-7bd103e5030d"
      },
      "source": [
        "# Importar el dataset\n",
        "\n",
        "dataset = pd.read_csv(\"https://raw.githubusercontent.com/MaddoSaru/deeplearning-az/master/datasets/Part%201%20-%20Artificial%20Neural%20Networks%20(ANN)/Churn_Modelling.csv\")\n",
        "dataset.head()"
      ],
      "execution_count": 4,
      "outputs": [
        {
          "output_type": "execute_result",
          "data": {
            "text/html": [
              "<div>\n",
              "<style scoped>\n",
              "    .dataframe tbody tr th:only-of-type {\n",
              "        vertical-align: middle;\n",
              "    }\n",
              "\n",
              "    .dataframe tbody tr th {\n",
              "        vertical-align: top;\n",
              "    }\n",
              "\n",
              "    .dataframe thead th {\n",
              "        text-align: right;\n",
              "    }\n",
              "</style>\n",
              "<table border=\"1\" class=\"dataframe\">\n",
              "  <thead>\n",
              "    <tr style=\"text-align: right;\">\n",
              "      <th></th>\n",
              "      <th>RowNumber</th>\n",
              "      <th>CustomerId</th>\n",
              "      <th>Surname</th>\n",
              "      <th>CreditScore</th>\n",
              "      <th>Geography</th>\n",
              "      <th>Gender</th>\n",
              "      <th>Age</th>\n",
              "      <th>Tenure</th>\n",
              "      <th>Balance</th>\n",
              "      <th>NumOfProducts</th>\n",
              "      <th>HasCrCard</th>\n",
              "      <th>IsActiveMember</th>\n",
              "      <th>EstimatedSalary</th>\n",
              "      <th>Exited</th>\n",
              "    </tr>\n",
              "  </thead>\n",
              "  <tbody>\n",
              "    <tr>\n",
              "      <th>0</th>\n",
              "      <td>1</td>\n",
              "      <td>15634602</td>\n",
              "      <td>Hargrave</td>\n",
              "      <td>619</td>\n",
              "      <td>France</td>\n",
              "      <td>Female</td>\n",
              "      <td>42</td>\n",
              "      <td>2</td>\n",
              "      <td>0.00</td>\n",
              "      <td>1</td>\n",
              "      <td>1</td>\n",
              "      <td>1</td>\n",
              "      <td>101348.88</td>\n",
              "      <td>1</td>\n",
              "    </tr>\n",
              "    <tr>\n",
              "      <th>1</th>\n",
              "      <td>2</td>\n",
              "      <td>15647311</td>\n",
              "      <td>Hill</td>\n",
              "      <td>608</td>\n",
              "      <td>Spain</td>\n",
              "      <td>Female</td>\n",
              "      <td>41</td>\n",
              "      <td>1</td>\n",
              "      <td>83807.86</td>\n",
              "      <td>1</td>\n",
              "      <td>0</td>\n",
              "      <td>1</td>\n",
              "      <td>112542.58</td>\n",
              "      <td>0</td>\n",
              "    </tr>\n",
              "    <tr>\n",
              "      <th>2</th>\n",
              "      <td>3</td>\n",
              "      <td>15619304</td>\n",
              "      <td>Onio</td>\n",
              "      <td>502</td>\n",
              "      <td>France</td>\n",
              "      <td>Female</td>\n",
              "      <td>42</td>\n",
              "      <td>8</td>\n",
              "      <td>159660.80</td>\n",
              "      <td>3</td>\n",
              "      <td>1</td>\n",
              "      <td>0</td>\n",
              "      <td>113931.57</td>\n",
              "      <td>1</td>\n",
              "    </tr>\n",
              "    <tr>\n",
              "      <th>3</th>\n",
              "      <td>4</td>\n",
              "      <td>15701354</td>\n",
              "      <td>Boni</td>\n",
              "      <td>699</td>\n",
              "      <td>France</td>\n",
              "      <td>Female</td>\n",
              "      <td>39</td>\n",
              "      <td>1</td>\n",
              "      <td>0.00</td>\n",
              "      <td>2</td>\n",
              "      <td>0</td>\n",
              "      <td>0</td>\n",
              "      <td>93826.63</td>\n",
              "      <td>0</td>\n",
              "    </tr>\n",
              "    <tr>\n",
              "      <th>4</th>\n",
              "      <td>5</td>\n",
              "      <td>15737888</td>\n",
              "      <td>Mitchell</td>\n",
              "      <td>850</td>\n",
              "      <td>Spain</td>\n",
              "      <td>Female</td>\n",
              "      <td>43</td>\n",
              "      <td>2</td>\n",
              "      <td>125510.82</td>\n",
              "      <td>1</td>\n",
              "      <td>1</td>\n",
              "      <td>1</td>\n",
              "      <td>79084.10</td>\n",
              "      <td>0</td>\n",
              "    </tr>\n",
              "  </tbody>\n",
              "</table>\n",
              "</div>"
            ],
            "text/plain": [
              "   RowNumber  CustomerId   Surname  ...  IsActiveMember EstimatedSalary Exited\n",
              "0          1    15634602  Hargrave  ...               1       101348.88      1\n",
              "1          2    15647311      Hill  ...               1       112542.58      0\n",
              "2          3    15619304      Onio  ...               0       113931.57      1\n",
              "3          4    15701354      Boni  ...               0        93826.63      0\n",
              "4          5    15737888  Mitchell  ...               1        79084.10      0\n",
              "\n",
              "[5 rows x 14 columns]"
            ]
          },
          "metadata": {
            "tags": []
          },
          "execution_count": 4
        }
      ]
    },
    {
      "cell_type": "code",
      "metadata": {
        "id": "o1Yegbw-LISq",
        "colab_type": "code",
        "colab": {
          "base_uri": "https://localhost:8080/",
          "height": 158
        },
        "outputId": "5a595944-a29e-44d0-efc6-80d5fef64266"
      },
      "source": [
        "# Seleccionar variables dependiente e independientes\n",
        "\n",
        "X = dataset.iloc[:,3:13].values\n",
        "y = dataset.iloc[:,13].values\n",
        "\n",
        "print(X)\n",
        "print(y)"
      ],
      "execution_count": 17,
      "outputs": [
        {
          "output_type": "stream",
          "text": [
            "[[619 'France' 'Female' ... 1 1 101348.88]\n",
            " [608 'Spain' 'Female' ... 0 1 112542.58]\n",
            " [502 'France' 'Female' ... 1 0 113931.57]\n",
            " ...\n",
            " [709 'France' 'Female' ... 0 1 42085.58]\n",
            " [772 'Germany' 'Male' ... 1 0 92888.52]\n",
            " [792 'France' 'Female' ... 1 0 38190.78]]\n",
            "[1 0 1 ... 1 1 0]\n"
          ],
          "name": "stdout"
        }
      ]
    },
    {
      "cell_type": "code",
      "metadata": {
        "id": "YEBd2ywkMBWC",
        "colab_type": "code",
        "colab": {
          "base_uri": "https://localhost:8080/",
          "height": 141
        },
        "outputId": "4b307dfc-c627-456f-92fd-6e3c0f951340"
      },
      "source": [
        "# Tratar datos categóricos\n",
        "\n",
        "from sklearn.preprocessing import LabelEncoder\n",
        "\n",
        "labelencoder_X_1 = LabelEncoder()\n",
        "X[:, 1] = labelencoder_X_1.fit_transform(X[:, 1]) # Cambiar variable Geography\n",
        "labelencoder_X_2 = LabelEncoder()\n",
        "X[:, 2] = labelencoder_X_2.fit_transform(X[:, 2]) # Cambiar variable Gender\n",
        "\n",
        "print(X)"
      ],
      "execution_count": 18,
      "outputs": [
        {
          "output_type": "stream",
          "text": [
            "[[619 0 0 ... 1 1 101348.88]\n",
            " [608 2 0 ... 0 1 112542.58]\n",
            " [502 0 0 ... 1 0 113931.57]\n",
            " ...\n",
            " [709 0 0 ... 0 1 42085.58]\n",
            " [772 1 1 ... 1 0 92888.52]\n",
            " [792 0 0 ... 1 0 38190.78]]\n"
          ],
          "name": "stdout"
        }
      ]
    },
    {
      "cell_type": "code",
      "metadata": {
        "id": "TksRJI90NMcC",
        "colab_type": "code",
        "colab": {
          "base_uri": "https://localhost:8080/",
          "height": 141
        },
        "outputId": "70ce8df8-962c-48b1-a47f-7bcbd0e73636"
      },
      "source": [
        "# Transformar a variable Dummy\n",
        "\n",
        "from sklearn.preprocessing import OneHotEncoder\n",
        "from sklearn.compose import ColumnTransformer\n",
        "\n",
        "transformer = ColumnTransformer(\n",
        "    transformers=[\n",
        "        (\"Churn_Modelling\",        # Un nombre de la transformación\n",
        "         OneHotEncoder(categories='auto'), # La clase a la que transformar\n",
        "         [1]            # Las columnas a transformar.\n",
        "         )\n",
        "    ], remainder='passthrough'\n",
        ")\n",
        "\n",
        "X = transformer.fit_transform(X)\n",
        "X = X[:, 1:]\n",
        "\n",
        "print(X)"
      ],
      "execution_count": 19,
      "outputs": [
        {
          "output_type": "stream",
          "text": [
            "[[0.0 0.0 619 ... 1 1 101348.88]\n",
            " [0.0 1.0 608 ... 0 1 112542.58]\n",
            " [0.0 0.0 502 ... 1 0 113931.57]\n",
            " ...\n",
            " [0.0 0.0 709 ... 0 1 42085.58]\n",
            " [1.0 0.0 772 ... 1 0 92888.52]\n",
            " [0.0 0.0 792 ... 1 0 38190.78]]\n"
          ],
          "name": "stdout"
        }
      ]
    },
    {
      "cell_type": "code",
      "metadata": {
        "id": "6WO7vBPDNwhY",
        "colab_type": "code",
        "colab": {}
      },
      "source": [
        "# Dividir el data set en conjunto de entrenamiento y conjunto de testing\n",
        "\n",
        "from sklearn.model_selection import train_test_split\n",
        "\n",
        "X_train, X_test, y_train, y_test = train_test_split(X, y, test_size = 0.2, random_state = 0)"
      ],
      "execution_count": 20,
      "outputs": []
    },
    {
      "cell_type": "code",
      "metadata": {
        "id": "45bd6BsSNytB",
        "colab_type": "code",
        "colab": {}
      },
      "source": [
        "# Escalado de variables\n",
        "\n",
        "from sklearn.preprocessing import StandardScaler\n",
        "\n",
        "sc_X = StandardScaler()\n",
        "X_train = sc_X.fit_transform(X_train)\n",
        "X_test = sc_X.transform(X_test)"
      ],
      "execution_count": 21,
      "outputs": []
    },
    {
      "cell_type": "markdown",
      "metadata": {
        "id": "DXcp7e8iOl6x",
        "colab_type": "text"
      },
      "source": [
        "**Parte 2 - Construir la RNA**"
      ]
    },
    {
      "cell_type": "code",
      "metadata": {
        "id": "laqBkO-xOrOU",
        "colab_type": "code",
        "colab": {}
      },
      "source": [
        "# Importar Keras y librerías adicionales\n",
        "\n",
        "import keras\n",
        "from keras.models import Sequential # Inicializar los parámetros de la RNA\n",
        "from keras.layers import Dense # Declarar y crear las capas de la RNA\n",
        "from keras.layers import Dropout"
      ],
      "execution_count": 107,
      "outputs": []
    },
    {
      "cell_type": "code",
      "metadata": {
        "id": "r_k1RX_WPQEj",
        "colab_type": "code",
        "colab": {}
      },
      "source": [
        "# Inicializar la RNA\n",
        "\n",
        "classifier = Sequential()"
      ],
      "execution_count": 108,
      "outputs": []
    },
    {
      "cell_type": "code",
      "metadata": {
        "id": "eOsRvsFpRVi3",
        "colab_type": "code",
        "colab": {}
      },
      "source": [
        "# Añadir la capa de entrada y primera capa oculta\n",
        "\n",
        "classifier.add(Dense(units = 6, kernel_initializer = \"uniform\", activation = \"relu\", input_dim = 11))\n",
        "classifier.add(Dropout(rate = 0.1))"
      ],
      "execution_count": 109,
      "outputs": []
    },
    {
      "cell_type": "code",
      "metadata": {
        "id": "WutbUyV0RYme",
        "colab_type": "code",
        "colab": {}
      },
      "source": [
        "# Añadir la segunda capa oculta\n",
        "\n",
        "classifier.add(Dense(units = 6, kernel_initializer = \"uniform\",  activation = \"relu\"))\n",
        "classifier.add(Dropout(rate = 0.1))"
      ],
      "execution_count": 110,
      "outputs": []
    },
    {
      "cell_type": "code",
      "metadata": {
        "id": "DmGXAtk3RerM",
        "colab_type": "code",
        "colab": {}
      },
      "source": [
        "# Añadir la capa de salida\n",
        "\n",
        "classifier.add(Dense(units = 1, kernel_initializer = \"uniform\",  activation = \"sigmoid\"))"
      ],
      "execution_count": 111,
      "outputs": []
    },
    {
      "cell_type": "code",
      "metadata": {
        "id": "MfR8YDBZRhHM",
        "colab_type": "code",
        "colab": {}
      },
      "source": [
        "# Compilar la RNA\n",
        "\n",
        "classifier.compile(optimizer = \"rmsprop\", loss = \"binary_crossentropy\", metrics = [\"accuracy\"])"
      ],
      "execution_count": 112,
      "outputs": []
    },
    {
      "cell_type": "code",
      "metadata": {
        "id": "axZ9BbrvRk5Q",
        "colab_type": "code",
        "colab": {
          "base_uri": "https://localhost:8080/",
          "height": 1000
        },
        "outputId": "88f91de5-06b9-43e6-f719-cd31c8828604"
      },
      "source": [
        "# Ajustamos la RNA al Conjunto de Entrenamiento\n",
        "\n",
        "classifier.fit(X_train, y_train,  batch_size = 32, epochs = 100)"
      ],
      "execution_count": 113,
      "outputs": [
        {
          "output_type": "stream",
          "text": [
            "Epoch 1/100\n",
            "250/250 [==============================] - 0s 982us/step - loss: 0.6264 - accuracy: 0.7937\n",
            "Epoch 2/100\n",
            "250/250 [==============================] - 0s 979us/step - loss: 0.4797 - accuracy: 0.7960\n",
            "Epoch 3/100\n",
            "250/250 [==============================] - 0s 1ms/step - loss: 0.4443 - accuracy: 0.7960\n",
            "Epoch 4/100\n",
            "250/250 [==============================] - 0s 1ms/step - loss: 0.4374 - accuracy: 0.7960\n",
            "Epoch 5/100\n",
            "250/250 [==============================] - 0s 960us/step - loss: 0.4302 - accuracy: 0.7987\n",
            "Epoch 6/100\n",
            "250/250 [==============================] - 0s 1ms/step - loss: 0.4271 - accuracy: 0.8174\n",
            "Epoch 7/100\n",
            "250/250 [==============================] - 0s 970us/step - loss: 0.4229 - accuracy: 0.8198\n",
            "Epoch 8/100\n",
            "250/250 [==============================] - 0s 1ms/step - loss: 0.4223 - accuracy: 0.8165\n",
            "Epoch 9/100\n",
            "250/250 [==============================] - 0s 957us/step - loss: 0.4162 - accuracy: 0.8227\n",
            "Epoch 10/100\n",
            "250/250 [==============================] - 0s 986us/step - loss: 0.4136 - accuracy: 0.8278\n",
            "Epoch 11/100\n",
            "250/250 [==============================] - 0s 982us/step - loss: 0.4073 - accuracy: 0.8285\n",
            "Epoch 12/100\n",
            "250/250 [==============================] - 0s 1ms/step - loss: 0.4067 - accuracy: 0.8301\n",
            "Epoch 13/100\n",
            "250/250 [==============================] - 0s 968us/step - loss: 0.4039 - accuracy: 0.8315\n",
            "Epoch 14/100\n",
            "250/250 [==============================] - 0s 1ms/step - loss: 0.3984 - accuracy: 0.8354\n",
            "Epoch 15/100\n",
            "250/250 [==============================] - 0s 1ms/step - loss: 0.3970 - accuracy: 0.8320\n",
            "Epoch 16/100\n",
            "250/250 [==============================] - 0s 983us/step - loss: 0.3973 - accuracy: 0.8345\n",
            "Epoch 17/100\n",
            "250/250 [==============================] - 0s 944us/step - loss: 0.3967 - accuracy: 0.8340\n",
            "Epoch 18/100\n",
            "250/250 [==============================] - 0s 986us/step - loss: 0.3917 - accuracy: 0.8401\n",
            "Epoch 19/100\n",
            "250/250 [==============================] - 0s 1ms/step - loss: 0.3939 - accuracy: 0.8380\n",
            "Epoch 20/100\n",
            "250/250 [==============================] - 0s 968us/step - loss: 0.3894 - accuracy: 0.8380\n",
            "Epoch 21/100\n",
            "250/250 [==============================] - 0s 1ms/step - loss: 0.3898 - accuracy: 0.8399\n",
            "Epoch 22/100\n",
            "250/250 [==============================] - 0s 981us/step - loss: 0.3922 - accuracy: 0.8375\n",
            "Epoch 23/100\n",
            "250/250 [==============================] - 0s 1ms/step - loss: 0.3866 - accuracy: 0.8406\n",
            "Epoch 24/100\n",
            "250/250 [==============================] - 0s 1ms/step - loss: 0.3882 - accuracy: 0.8411\n",
            "Epoch 25/100\n",
            "250/250 [==============================] - 0s 946us/step - loss: 0.3825 - accuracy: 0.8464\n",
            "Epoch 26/100\n",
            "250/250 [==============================] - 0s 953us/step - loss: 0.3832 - accuracy: 0.8422\n",
            "Epoch 27/100\n",
            "250/250 [==============================] - 0s 1ms/step - loss: 0.3811 - accuracy: 0.8429\n",
            "Epoch 28/100\n",
            "250/250 [==============================] - 0s 978us/step - loss: 0.3838 - accuracy: 0.8401\n",
            "Epoch 29/100\n",
            "250/250 [==============================] - 0s 997us/step - loss: 0.3807 - accuracy: 0.8409\n",
            "Epoch 30/100\n",
            "250/250 [==============================] - 0s 1ms/step - loss: 0.3790 - accuracy: 0.8443\n",
            "Epoch 31/100\n",
            "250/250 [==============================] - 0s 1ms/step - loss: 0.3749 - accuracy: 0.8436\n",
            "Epoch 32/100\n",
            "250/250 [==============================] - 0s 951us/step - loss: 0.3786 - accuracy: 0.8465\n",
            "Epoch 33/100\n",
            "250/250 [==============================] - 0s 994us/step - loss: 0.3790 - accuracy: 0.8459\n",
            "Epoch 34/100\n",
            "250/250 [==============================] - 0s 1ms/step - loss: 0.3788 - accuracy: 0.8455\n",
            "Epoch 35/100\n",
            "250/250 [==============================] - 0s 1ms/step - loss: 0.3771 - accuracy: 0.8439\n",
            "Epoch 36/100\n",
            "250/250 [==============================] - 0s 1ms/step - loss: 0.3690 - accuracy: 0.8486\n",
            "Epoch 37/100\n",
            "250/250 [==============================] - 0s 965us/step - loss: 0.3791 - accuracy: 0.8409\n",
            "Epoch 38/100\n",
            "250/250 [==============================] - 0s 994us/step - loss: 0.3797 - accuracy: 0.8415\n",
            "Epoch 39/100\n",
            "250/250 [==============================] - 0s 1ms/step - loss: 0.3803 - accuracy: 0.8410\n",
            "Epoch 40/100\n",
            "250/250 [==============================] - 0s 977us/step - loss: 0.3755 - accuracy: 0.8444\n",
            "Epoch 41/100\n",
            "250/250 [==============================] - 0s 1ms/step - loss: 0.3767 - accuracy: 0.8434\n",
            "Epoch 42/100\n",
            "250/250 [==============================] - 0s 1ms/step - loss: 0.3758 - accuracy: 0.8451\n",
            "Epoch 43/100\n",
            "250/250 [==============================] - 0s 986us/step - loss: 0.3770 - accuracy: 0.8455\n",
            "Epoch 44/100\n",
            "250/250 [==============================] - 0s 980us/step - loss: 0.3717 - accuracy: 0.8447\n",
            "Epoch 45/100\n",
            "250/250 [==============================] - 0s 959us/step - loss: 0.3723 - accuracy: 0.8471\n",
            "Epoch 46/100\n",
            "250/250 [==============================] - 0s 971us/step - loss: 0.3738 - accuracy: 0.8429\n",
            "Epoch 47/100\n",
            "250/250 [==============================] - 0s 1ms/step - loss: 0.3758 - accuracy: 0.8478\n",
            "Epoch 48/100\n",
            "250/250 [==============================] - 0s 1ms/step - loss: 0.3717 - accuracy: 0.8472\n",
            "Epoch 49/100\n",
            "250/250 [==============================] - 0s 1ms/step - loss: 0.3765 - accuracy: 0.8465\n",
            "Epoch 50/100\n",
            "250/250 [==============================] - 0s 1ms/step - loss: 0.3726 - accuracy: 0.8499\n",
            "Epoch 51/100\n",
            "250/250 [==============================] - 0s 1ms/step - loss: 0.3714 - accuracy: 0.8469\n",
            "Epoch 52/100\n",
            "250/250 [==============================] - 0s 956us/step - loss: 0.3729 - accuracy: 0.8446\n",
            "Epoch 53/100\n",
            "250/250 [==============================] - 0s 1ms/step - loss: 0.3740 - accuracy: 0.8460\n",
            "Epoch 54/100\n",
            "250/250 [==============================] - 0s 998us/step - loss: 0.3748 - accuracy: 0.8476\n",
            "Epoch 55/100\n",
            "250/250 [==============================] - 0s 1ms/step - loss: 0.3732 - accuracy: 0.8461\n",
            "Epoch 56/100\n",
            "250/250 [==============================] - 0s 1ms/step - loss: 0.3685 - accuracy: 0.8449\n",
            "Epoch 57/100\n",
            "250/250 [==============================] - 0s 970us/step - loss: 0.3748 - accuracy: 0.8457\n",
            "Epoch 58/100\n",
            "250/250 [==============================] - 0s 968us/step - loss: 0.3695 - accuracy: 0.8486\n",
            "Epoch 59/100\n",
            "250/250 [==============================] - 0s 1ms/step - loss: 0.3720 - accuracy: 0.8446\n",
            "Epoch 60/100\n",
            "250/250 [==============================] - 0s 960us/step - loss: 0.3700 - accuracy: 0.8476\n",
            "Epoch 61/100\n",
            "250/250 [==============================] - 0s 971us/step - loss: 0.3726 - accuracy: 0.8480\n",
            "Epoch 62/100\n",
            "250/250 [==============================] - 0s 1ms/step - loss: 0.3683 - accuracy: 0.8470\n",
            "Epoch 63/100\n",
            "250/250 [==============================] - 0s 1ms/step - loss: 0.3723 - accuracy: 0.8461\n",
            "Epoch 64/100\n",
            "250/250 [==============================] - 0s 950us/step - loss: 0.3734 - accuracy: 0.8449\n",
            "Epoch 65/100\n",
            "250/250 [==============================] - 0s 996us/step - loss: 0.3717 - accuracy: 0.8462\n",
            "Epoch 66/100\n",
            "250/250 [==============================] - 0s 968us/step - loss: 0.3708 - accuracy: 0.8469\n",
            "Epoch 67/100\n",
            "250/250 [==============================] - 0s 1ms/step - loss: 0.3731 - accuracy: 0.8468\n",
            "Epoch 68/100\n",
            "250/250 [==============================] - 0s 1ms/step - loss: 0.3709 - accuracy: 0.8466\n",
            "Epoch 69/100\n",
            "250/250 [==============================] - 0s 994us/step - loss: 0.3772 - accuracy: 0.8399\n",
            "Epoch 70/100\n",
            "250/250 [==============================] - 0s 1ms/step - loss: 0.3690 - accuracy: 0.8466\n",
            "Epoch 71/100\n",
            "250/250 [==============================] - 0s 980us/step - loss: 0.3732 - accuracy: 0.8443\n",
            "Epoch 72/100\n",
            "250/250 [==============================] - 0s 1ms/step - loss: 0.3720 - accuracy: 0.8430\n",
            "Epoch 73/100\n",
            "250/250 [==============================] - 0s 1ms/step - loss: 0.3664 - accuracy: 0.8450\n",
            "Epoch 74/100\n",
            "250/250 [==============================] - 0s 1ms/step - loss: 0.3706 - accuracy: 0.8460\n",
            "Epoch 75/100\n",
            "250/250 [==============================] - 0s 980us/step - loss: 0.3686 - accuracy: 0.8434\n",
            "Epoch 76/100\n",
            "250/250 [==============================] - 0s 1ms/step - loss: 0.3726 - accuracy: 0.8419\n",
            "Epoch 77/100\n",
            "250/250 [==============================] - 0s 1ms/step - loss: 0.3677 - accuracy: 0.8481\n",
            "Epoch 78/100\n",
            "250/250 [==============================] - 0s 995us/step - loss: 0.3734 - accuracy: 0.8421\n",
            "Epoch 79/100\n",
            "250/250 [==============================] - 0s 1ms/step - loss: 0.3746 - accuracy: 0.8397\n",
            "Epoch 80/100\n",
            "250/250 [==============================] - 0s 992us/step - loss: 0.3734 - accuracy: 0.8432\n",
            "Epoch 81/100\n",
            "250/250 [==============================] - 0s 1ms/step - loss: 0.3684 - accuracy: 0.8464\n",
            "Epoch 82/100\n",
            "250/250 [==============================] - 0s 1ms/step - loss: 0.3670 - accuracy: 0.8480\n",
            "Epoch 83/100\n",
            "250/250 [==============================] - 0s 958us/step - loss: 0.3709 - accuracy: 0.8447\n",
            "Epoch 84/100\n",
            "250/250 [==============================] - 0s 983us/step - loss: 0.3735 - accuracy: 0.8429\n",
            "Epoch 85/100\n",
            "250/250 [==============================] - 0s 963us/step - loss: 0.3695 - accuracy: 0.8451\n",
            "Epoch 86/100\n",
            "250/250 [==============================] - 0s 1ms/step - loss: 0.3722 - accuracy: 0.8436\n",
            "Epoch 87/100\n",
            "250/250 [==============================] - 0s 989us/step - loss: 0.3697 - accuracy: 0.8450\n",
            "Epoch 88/100\n",
            "250/250 [==============================] - 0s 1ms/step - loss: 0.3707 - accuracy: 0.8465\n",
            "Epoch 89/100\n",
            "250/250 [==============================] - 0s 977us/step - loss: 0.3686 - accuracy: 0.8495\n",
            "Epoch 90/100\n",
            "250/250 [==============================] - 0s 1ms/step - loss: 0.3678 - accuracy: 0.8470\n",
            "Epoch 91/100\n",
            "250/250 [==============================] - 0s 1ms/step - loss: 0.3687 - accuracy: 0.8449\n",
            "Epoch 92/100\n",
            "250/250 [==============================] - 0s 1ms/step - loss: 0.3694 - accuracy: 0.8451\n",
            "Epoch 93/100\n",
            "250/250 [==============================] - 0s 990us/step - loss: 0.3722 - accuracy: 0.8451\n",
            "Epoch 94/100\n",
            "250/250 [==============================] - 0s 980us/step - loss: 0.3686 - accuracy: 0.8422\n",
            "Epoch 95/100\n",
            "250/250 [==============================] - 0s 981us/step - loss: 0.3715 - accuracy: 0.8460\n",
            "Epoch 96/100\n",
            "250/250 [==============================] - 0s 1ms/step - loss: 0.3658 - accuracy: 0.8508\n",
            "Epoch 97/100\n",
            "250/250 [==============================] - 0s 970us/step - loss: 0.3688 - accuracy: 0.8457\n",
            "Epoch 98/100\n",
            "250/250 [==============================] - 0s 1ms/step - loss: 0.3725 - accuracy: 0.8465\n",
            "Epoch 99/100\n",
            "250/250 [==============================] - 0s 962us/step - loss: 0.3709 - accuracy: 0.8486\n",
            "Epoch 100/100\n",
            "250/250 [==============================] - 0s 1ms/step - loss: 0.3696 - accuracy: 0.8472\n"
          ],
          "name": "stdout"
        },
        {
          "output_type": "execute_result",
          "data": {
            "text/plain": [
              "<tensorflow.python.keras.callbacks.History at 0x7fdd28a04e48>"
            ]
          },
          "metadata": {
            "tags": []
          },
          "execution_count": 113
        }
      ]
    },
    {
      "cell_type": "markdown",
      "metadata": {
        "id": "V4n1pEAhTfDB",
        "colab_type": "text"
      },
      "source": [
        "**Parte 3 - Evaluar el modelo y calcular predicciones finales**"
      ]
    },
    {
      "cell_type": "code",
      "metadata": {
        "id": "Cso5cCiLTbiB",
        "colab_type": "code",
        "colab": {}
      },
      "source": [
        "# Predicción de los resultados con el Conjunto de Testing\n",
        "\n",
        "y_pred  = classifier.predict(X_test)\n",
        "y_pred = (y_pred>0.5)"
      ],
      "execution_count": 114,
      "outputs": []
    },
    {
      "cell_type": "code",
      "metadata": {
        "id": "h5W3i6lUT3mV",
        "colab_type": "code",
        "colab": {
          "base_uri": "https://localhost:8080/",
          "height": 70
        },
        "outputId": "10501961-8e43-4efa-c961-e60ee641b896"
      },
      "source": [
        "# Elaborar una matriz de confusión\n",
        "\n",
        "from sklearn.metrics import confusion_matrix\n",
        "cm = confusion_matrix(y_test, y_pred)\n",
        "\n",
        "print(cm)\n",
        "print(\"Accuracy: \",(cm[0][0]+cm[1][1])/cm.sum())"
      ],
      "execution_count": 115,
      "outputs": [
        {
          "output_type": "stream",
          "text": [
            "[[1525   70]\n",
            " [ 198  207]]\n",
            "Accuracy:  0.866\n"
          ],
          "name": "stdout"
        }
      ]
    },
    {
      "cell_type": "markdown",
      "metadata": {
        "id": "EQCnfUugULWc",
        "colab_type": "text"
      },
      "source": [
        "**Tarea 1 - ¿Deberíamos despedirnos de ese cliente?**"
      ]
    },
    {
      "cell_type": "code",
      "metadata": {
        "id": "9FPdXsQnUCKZ",
        "colab_type": "code",
        "colab": {}
      },
      "source": [
        "# Crear el nuevo cliente\n",
        "\n",
        "cliente = np.array([[0,0,600, 1, 40, 3, 60000, 2, 1, 1, 50000]])"
      ],
      "execution_count": 64,
      "outputs": []
    },
    {
      "cell_type": "code",
      "metadata": {
        "id": "tsYM9JurqYPO",
        "colab_type": "code",
        "colab": {
          "base_uri": "https://localhost:8080/",
          "height": 34
        },
        "outputId": "bd6373a3-5c49-4c7f-8ca4-5a55c9d2e0c0"
      },
      "source": [
        "# Escalado de la nueva variable\n",
        "\n",
        "sc_X = StandardScaler()\n",
        "cliente = sc_X.fit_transform(cliente)\n",
        "prediccion = classifier.predict(cliente)\n",
        "prediccion = (prediccion > 0.5)\n",
        "\n",
        "print(prediccion)"
      ],
      "execution_count": 65,
      "outputs": [
        {
          "output_type": "stream",
          "text": [
            "[[False]]\n"
          ],
          "name": "stdout"
        }
      ]
    },
    {
      "cell_type": "code",
      "metadata": {
        "id": "1Lt1Lo8Grdos",
        "colab_type": "code",
        "colab": {
          "base_uri": "https://localhost:8080/",
          "height": 34
        },
        "outputId": "4a08bf17-2a8c-4b24-ed90-9f8fe0e1d119"
      },
      "source": [
        "# Matriz de confusión\n",
        "\n",
        "from sklearn.metrics import confusion_matrix\n",
        "cm = confusion_matrix(y_test, y_pred)\n",
        "print((cm[0][0]+cm[1][1])/cm.sum())"
      ],
      "execution_count": 66,
      "outputs": [
        {
          "output_type": "stream",
          "text": [
            "0.838\n"
          ],
          "name": "stdout"
        }
      ]
    },
    {
      "cell_type": "markdown",
      "metadata": {
        "id": "e_tHgCt-sQVD",
        "colab_type": "text"
      },
      "source": [
        "**Parte 4 - Evaluar, mejorar y ajustar la RNA**"
      ]
    },
    {
      "cell_type": "code",
      "metadata": {
        "id": "n0sv9Nh5sbcp",
        "colab_type": "code",
        "colab": {
          "base_uri": "https://localhost:8080/",
          "height": 87
        },
        "outputId": "6cf0b885-7919-479e-a9cb-951fe780e23c"
      },
      "source": [
        "### Evaluar la **RNA**\n",
        "\n",
        "from keras.wrappers.scikit_learn import KerasClassifier\n",
        "from sklearn.model_selection import cross_val_score\n",
        "\n",
        "def build_classifier():\n",
        "  classifier = Sequential()\n",
        "  classifier.add(Dense(units = 6, kernel_initializer = \"uniform\", activation = \"relu\", input_dim = 11))\n",
        "  classifier.add(Dense(units = 6, kernel_initializer = \"uniform\", activation = \"relu\"))\n",
        "  classifier.add(Dense(units = 1, kernel_initializer = \"uniform\", activation = \"sigmoid\"))\n",
        "  classifier.compile(optimizer = \"adam\", loss = \"binary_crossentropy\", metrics = [\"accuracy\"])\n",
        "  return classifier\n",
        "\n",
        "classifier = KerasClassifier(build_fn = build_classifier, batch_size = 10, nb_epoch = 100)\n",
        "accuracies = cross_val_score(estimator=classifier, X = X_train, y = y_train, cv = 10, n_jobs=-1, verbose = 1)\n",
        "\n",
        "mean = accuracies.mean()\n",
        "variance = accuracies.std()\n",
        "\n",
        "print(\"La media es: \", mean)\n",
        "print(\"La varianza es: \", variance)"
      ],
      "execution_count": 67,
      "outputs": [
        {
          "output_type": "stream",
          "text": [
            "[Parallel(n_jobs=-1)]: Using backend LokyBackend with 2 concurrent workers.\n"
          ],
          "name": "stderr"
        },
        {
          "output_type": "stream",
          "text": [
            "La media es:  0.7960000097751617\n",
            "La varianza es:  0.010105690527913859\n"
          ],
          "name": "stdout"
        },
        {
          "output_type": "stream",
          "text": [
            "[Parallel(n_jobs=-1)]: Done  10 out of  10 | elapsed:   13.2s finished\n"
          ],
          "name": "stderr"
        }
      ]
    },
    {
      "cell_type": "code",
      "metadata": {
        "id": "xnz1xq7KsfR9",
        "colab_type": "code",
        "colab": {
          "base_uri": "https://localhost:8080/",
          "height": 1000
        },
        "outputId": "af566a65-bad3-4a5d-d4e9-50d4daa55081"
      },
      "source": [
        "### Mejorar la RNA\n",
        "#### Regularización de Dropout para evitar el *overfitting*\n",
        "\n",
        "### Ajustar la *RNA*\n",
        "from sklearn.model_selection import GridSearchCV # sklearn.grid_search\n",
        "\n",
        "def build_classifier(optimizer):\n",
        "  classifier = Sequential()\n",
        "  classifier.add(Dense(units = 6, kernel_initializer = \"uniform\",  activation = \"relu\", input_dim = 11))\n",
        "  classifier.add(Dense(units = 6, kernel_initializer = \"uniform\",  activation = \"relu\"))\n",
        "  classifier.add(Dense(units = 6, kernel_initializer = \"uniform\",  activation = \"relu\"))\n",
        "  classifier.add(Dense(units = 1, kernel_initializer = \"uniform\",  activation = \"sigmoid\"))\n",
        "  classifier.compile(optimizer = optimizer, loss = \"binary_crossentropy\", metrics = [\"accuracy\"])\n",
        "  return classifier\n",
        "\n",
        "classifier = KerasClassifier(build_fn = build_classifier)\n",
        "\n",
        "parameters = {\n",
        "    'batch_size' : [16,25,32],\n",
        "    'nb_epoch' : [50,100,250,500], \n",
        "    'optimizer' : ['adam', 'rmsprop']\n",
        "}\n",
        "\n",
        "grid_search = GridSearchCV(estimator = classifier, \n",
        "                           param_grid = parameters, \n",
        "                           scoring = 'accuracy', \n",
        "                           cv = 10)\n",
        "grid_search = grid_search.fit(X_train, y_train)\n",
        "best_parameters = grid_search.best_params_\n",
        "best_accuracy = grid_search.best_score_\n",
        "\n",
        "print(best_parameters)\n",
        "print(best_accuracy)"
      ],
      "execution_count": 106,
      "outputs": [
        {
          "output_type": "stream",
          "text": [
            "450/450 [==============================] - 0s 1ms/step - loss: 0.5126 - accuracy: 0.7965\n",
            "450/450 [==============================] - 0s 991us/step - loss: 0.5092 - accuracy: 0.7967\n",
            "450/450 [==============================] - 0s 968us/step - loss: 0.5249 - accuracy: 0.7947\n",
            "450/450 [==============================] - 0s 964us/step - loss: 0.5146 - accuracy: 0.7968\n",
            "450/450 [==============================] - 0s 959us/step - loss: 0.5328 - accuracy: 0.7926\n",
            "450/450 [==============================] - 0s 962us/step - loss: 0.5184 - accuracy: 0.7944\n",
            "450/450 [==============================] - 0s 983us/step - loss: 0.5239 - accuracy: 0.7964\n",
            "450/450 [==============================] - 0s 970us/step - loss: 0.5187 - accuracy: 0.7950\n",
            "450/450 [==============================] - 0s 958us/step - loss: 0.5286 - accuracy: 0.7950\n",
            "450/450 [==============================] - 0s 1ms/step - loss: 0.5100 - accuracy: 0.7950\n",
            "450/450 [==============================] - 0s 1ms/step - loss: 0.5648 - accuracy: 0.7953\n",
            "450/450 [==============================] - 0s 1ms/step - loss: 0.5294 - accuracy: 0.7967\n",
            "450/450 [==============================] - 0s 994us/step - loss: 0.5218 - accuracy: 0.7953\n",
            "450/450 [==============================] - 0s 960us/step - loss: 0.5203 - accuracy: 0.7967\n",
            "450/450 [==============================] - 0s 1ms/step - loss: 0.5383 - accuracy: 0.7937\n",
            "450/450 [==============================] - 0s 975us/step - loss: 0.5407 - accuracy: 0.7944\n",
            "450/450 [==============================] - 0s 1ms/step - loss: 0.5671 - accuracy: 0.7956\n",
            "450/450 [==============================] - 0s 985us/step - loss: 0.5327 - accuracy: 0.7962\n",
            "450/450 [==============================] - 0s 977us/step - loss: 0.6369 - accuracy: 0.7949\n",
            "450/450 [==============================] - 0s 985us/step - loss: 0.5420 - accuracy: 0.7961\n",
            "450/450 [==============================] - 0s 943us/step - loss: 0.5050 - accuracy: 0.7971\n",
            "450/450 [==============================] - 0s 1ms/step - loss: 0.5298 - accuracy: 0.7958\n",
            "450/450 [==============================] - 0s 925us/step - loss: 0.5102 - accuracy: 0.7954\n",
            "450/450 [==============================] - 0s 975us/step - loss: 0.5113 - accuracy: 0.7972\n",
            "450/450 [==============================] - 0s 976us/step - loss: 0.5238 - accuracy: 0.7936\n",
            "450/450 [==============================] - 0s 915us/step - loss: 0.5202 - accuracy: 0.7944\n",
            "450/450 [==============================] - 0s 955us/step - loss: 0.5114 - accuracy: 0.7965\n",
            "450/450 [==============================] - 0s 923us/step - loss: 0.5130 - accuracy: 0.7962\n",
            "450/450 [==============================] - 0s 922us/step - loss: 0.5253 - accuracy: 0.7946\n",
            "450/450 [==============================] - 0s 962us/step - loss: 0.5120 - accuracy: 0.7958\n",
            "450/450 [==============================] - 0s 988us/step - loss: 0.5216 - accuracy: 0.7968\n",
            "450/450 [==============================] - 0s 1ms/step - loss: 0.5459 - accuracy: 0.7956\n",
            "450/450 [==============================] - 0s 975us/step - loss: 0.5358 - accuracy: 0.7956\n",
            "450/450 [==============================] - 0s 950us/step - loss: 0.5210 - accuracy: 0.7968\n",
            "450/450 [==============================] - 0s 987us/step - loss: 0.5435 - accuracy: 0.7931\n",
            "450/450 [==============================] - 0s 1ms/step - loss: 0.5418 - accuracy: 0.7932\n",
            "450/450 [==============================] - 0s 999us/step - loss: 0.5369 - accuracy: 0.7962\n",
            "450/450 [==============================] - 0s 991us/step - loss: 0.5321 - accuracy: 0.7961\n",
            "450/450 [==============================] - 0s 1ms/step - loss: 0.5295 - accuracy: 0.7958\n",
            "450/450 [==============================] - 0s 1ms/step - loss: 0.5371 - accuracy: 0.7961\n",
            "450/450 [==============================] - 0s 995us/step - loss: 0.5162 - accuracy: 0.7968\n",
            "450/450 [==============================] - 0s 955us/step - loss: 0.5333 - accuracy: 0.7962\n",
            "450/450 [==============================] - 0s 997us/step - loss: 0.5121 - accuracy: 0.7953\n",
            "450/450 [==============================] - 0s 924us/step - loss: 0.5351 - accuracy: 0.7965\n",
            "450/450 [==============================] - 0s 962us/step - loss: 0.5046 - accuracy: 0.7932\n",
            "450/450 [==============================] - 0s 991us/step - loss: 0.5183 - accuracy: 0.7928\n",
            "450/450 [==============================] - 0s 986us/step - loss: 0.5133 - accuracy: 0.7962\n",
            "450/450 [==============================] - 0s 972us/step - loss: 0.5248 - accuracy: 0.7953\n",
            "450/450 [==============================] - 0s 987us/step - loss: 0.5338 - accuracy: 0.7954\n",
            "450/450 [==============================] - 0s 964us/step - loss: 0.5125 - accuracy: 0.7960\n",
            "450/450 [==============================] - 0s 952us/step - loss: 0.5337 - accuracy: 0.7971\n",
            "450/450 [==============================] - 0s 978us/step - loss: 0.5275 - accuracy: 0.7956\n",
            "450/450 [==============================] - 0s 973us/step - loss: 0.5272 - accuracy: 0.7954\n",
            "450/450 [==============================] - 0s 963us/step - loss: 0.5360 - accuracy: 0.7957\n",
            "450/450 [==============================] - 0s 984us/step - loss: 0.5537 - accuracy: 0.7918\n",
            "450/450 [==============================] - 0s 1ms/step - loss: 0.5267 - accuracy: 0.7944\n",
            "450/450 [==============================] - 0s 1ms/step - loss: 0.5565 - accuracy: 0.7960\n",
            "450/450 [==============================] - 0s 1ms/step - loss: 0.5667 - accuracy: 0.7946\n",
            "450/450 [==============================] - 0s 1ms/step - loss: 0.5499 - accuracy: 0.7947\n",
            "450/450 [==============================] - 0s 991us/step - loss: 0.5291 - accuracy: 0.7957\n",
            "450/450 [==============================] - 0s 996us/step - loss: 0.5076 - accuracy: 0.7969\n",
            "450/450 [==============================] - 0s 972us/step - loss: 0.5222 - accuracy: 0.7957\n",
            "450/450 [==============================] - 0s 1ms/step - loss: 0.5253 - accuracy: 0.7954\n",
            "450/450 [==============================] - 0s 960us/step - loss: 0.4995 - accuracy: 0.7975\n",
            "450/450 [==============================] - 0s 961us/step - loss: 0.5195 - accuracy: 0.7926\n",
            "450/450 [==============================] - 0s 980us/step - loss: 0.5276 - accuracy: 0.7936\n",
            "450/450 [==============================] - 0s 941us/step - loss: 0.5083 - accuracy: 0.7969\n",
            "450/450 [==============================] - 0s 989us/step - loss: 0.5073 - accuracy: 0.7962\n",
            "450/450 [==============================] - 0s 927us/step - loss: 0.5156 - accuracy: 0.7956\n",
            "450/450 [==============================] - 0s 936us/step - loss: 0.6414 - accuracy: 0.7953\n",
            "450/450 [==============================] - 0s 972us/step - loss: 0.5418 - accuracy: 0.7962\n",
            "450/450 [==============================] - 0s 970us/step - loss: 0.5245 - accuracy: 0.7964\n",
            "450/450 [==============================] - 0s 1ms/step - loss: 0.5419 - accuracy: 0.7942\n",
            "450/450 [==============================] - 0s 956us/step - loss: 0.5268 - accuracy: 0.7969\n",
            "450/450 [==============================] - 0s 1ms/step - loss: 0.5322 - accuracy: 0.7936\n",
            "450/450 [==============================] - 0s 963us/step - loss: 0.6373 - accuracy: 0.7928\n",
            "450/450 [==============================] - 0s 1ms/step - loss: 0.5642 - accuracy: 0.7960\n",
            "450/450 [==============================] - 0s 986us/step - loss: 0.5413 - accuracy: 0.7957\n",
            "450/450 [==============================] - 0s 989us/step - loss: 0.5499 - accuracy: 0.7957\n",
            "450/450 [==============================] - 1s 1ms/step - loss: 0.5471 - accuracy: 0.7953\n",
            "288/288 [==============================] - 0s 941us/step - loss: 0.5474 - accuracy: 0.7961\n",
            "288/288 [==============================] - 0s 1ms/step - loss: 0.5556 - accuracy: 0.7958\n",
            "288/288 [==============================] - 0s 981us/step - loss: 0.5519 - accuracy: 0.7956\n",
            "288/288 [==============================] - 0s 950us/step - loss: 0.5426 - accuracy: 0.7975\n",
            "288/288 [==============================] - 0s 969us/step - loss: 0.5509 - accuracy: 0.7919\n",
            "288/288 [==============================] - 0s 996us/step - loss: 0.5549 - accuracy: 0.7926\n",
            "288/288 [==============================] - 0s 983us/step - loss: 0.5510 - accuracy: 0.7951\n",
            "288/288 [==============================] - 0s 1ms/step - loss: 0.5755 - accuracy: 0.7940\n",
            "288/288 [==============================] - 0s 961us/step - loss: 0.5750 - accuracy: 0.7957\n",
            "288/288 [==============================] - 0s 1ms/step - loss: 0.5532 - accuracy: 0.7950\n",
            "288/288 [==============================] - 0s 1ms/step - loss: 0.5522 - accuracy: 0.7971\n",
            "288/288 [==============================] - 0s 1ms/step - loss: 0.5986 - accuracy: 0.7953\n",
            "288/288 [==============================] - 0s 1ms/step - loss: 0.5704 - accuracy: 0.7954\n",
            "288/288 [==============================] - 0s 1ms/step - loss: 0.5483 - accuracy: 0.7975\n",
            "288/288 [==============================] - 0s 1ms/step - loss: 0.5752 - accuracy: 0.7931\n",
            "288/288 [==============================] - 0s 1ms/step - loss: 0.5844 - accuracy: 0.7940\n",
            "288/288 [==============================] - 0s 1ms/step - loss: 0.5783 - accuracy: 0.7960\n",
            "288/288 [==============================] - 0s 1ms/step - loss: 0.6190 - accuracy: 0.7936\n",
            "288/288 [==============================] - 0s 1ms/step - loss: 0.6232 - accuracy: 0.7944\n",
            "288/288 [==============================] - 0s 1ms/step - loss: 0.5887 - accuracy: 0.7953\n",
            "288/288 [==============================] - 0s 1ms/step - loss: 0.5559 - accuracy: 0.7969\n",
            "288/288 [==============================] - 0s 950us/step - loss: 0.5552 - accuracy: 0.7949\n",
            "288/288 [==============================] - 0s 1ms/step - loss: 0.5476 - accuracy: 0.7956\n",
            "288/288 [==============================] - 0s 981us/step - loss: 0.5712 - accuracy: 0.7964\n",
            "288/288 [==============================] - 0s 1ms/step - loss: 0.5544 - accuracy: 0.7932\n",
            "288/288 [==============================] - 0s 988us/step - loss: 0.5443 - accuracy: 0.7940\n",
            "288/288 [==============================] - 0s 973us/step - loss: 0.5581 - accuracy: 0.7962\n",
            "288/288 [==============================] - 0s 931us/step - loss: 0.5437 - accuracy: 0.7962\n",
            "288/288 [==============================] - 0s 1ms/step - loss: 0.5558 - accuracy: 0.7957\n",
            "288/288 [==============================] - 0s 995us/step - loss: 0.5741 - accuracy: 0.7940\n",
            "288/288 [==============================] - 0s 1ms/step - loss: 0.5746 - accuracy: 0.7971\n",
            "288/288 [==============================] - 0s 997us/step - loss: 0.5749 - accuracy: 0.7950\n",
            "288/288 [==============================] - 0s 987us/step - loss: 0.5926 - accuracy: 0.7937\n",
            "288/288 [==============================] - 0s 1ms/step - loss: 0.5734 - accuracy: 0.7975\n",
            "288/288 [==============================] - 0s 1ms/step - loss: 0.5553 - accuracy: 0.7937\n",
            "288/288 [==============================] - 0s 998us/step - loss: 0.6253 - accuracy: 0.7926\n",
            "288/288 [==============================] - 0s 1ms/step - loss: 0.5899 - accuracy: 0.7962\n",
            "288/288 [==============================] - 0s 1ms/step - loss: 0.5727 - accuracy: 0.7950\n",
            "288/288 [==============================] - 0s 1ms/step - loss: 0.5801 - accuracy: 0.7942\n",
            "288/288 [==============================] - 0s 1ms/step - loss: 0.5710 - accuracy: 0.7935\n",
            "288/288 [==============================] - 0s 958us/step - loss: 0.5606 - accuracy: 0.7953\n",
            "288/288 [==============================] - 0s 962us/step - loss: 0.5649 - accuracy: 0.7949\n",
            "288/288 [==============================] - 0s 923us/step - loss: 0.5617 - accuracy: 0.7929\n",
            "288/288 [==============================] - 0s 979us/step - loss: 0.5567 - accuracy: 0.7967\n",
            "288/288 [==============================] - 0s 1ms/step - loss: 0.5846 - accuracy: 0.7914\n",
            "288/288 [==============================] - 0s 961us/step - loss: 0.5438 - accuracy: 0.7939\n",
            "288/288 [==============================] - 0s 976us/step - loss: 0.5528 - accuracy: 0.7967\n",
            "288/288 [==============================] - 0s 1ms/step - loss: 0.5949 - accuracy: 0.7946\n",
            "288/288 [==============================] - 0s 928us/step - loss: 0.5577 - accuracy: 0.7951\n",
            "288/288 [==============================] - 0s 1ms/step - loss: 0.5627 - accuracy: 0.7929\n",
            "288/288 [==============================] - 0s 1ms/step - loss: 0.6004 - accuracy: 0.7949\n",
            "288/288 [==============================] - 0s 1ms/step - loss: 0.5794 - accuracy: 0.7949\n",
            "288/288 [==============================] - 0s 1ms/step - loss: 0.5824 - accuracy: 0.7954\n",
            "288/288 [==============================] - 0s 991us/step - loss: 0.5867 - accuracy: 0.7949\n",
            "288/288 [==============================] - 0s 1ms/step - loss: 0.5625 - accuracy: 0.7935\n",
            "288/288 [==============================] - 0s 998us/step - loss: 0.5621 - accuracy: 0.7942\n",
            "288/288 [==============================] - 0s 997us/step - loss: 0.5704 - accuracy: 0.7962\n",
            "288/288 [==============================] - 0s 1ms/step - loss: 0.5627 - accuracy: 0.7961\n",
            "288/288 [==============================] - 0s 1ms/step - loss: 0.5781 - accuracy: 0.7943\n",
            "288/288 [==============================] - 0s 959us/step - loss: 0.5582 - accuracy: 0.7950\n",
            "288/288 [==============================] - 0s 958us/step - loss: 0.5555 - accuracy: 0.7954\n",
            "288/288 [==============================] - 0s 948us/step - loss: 0.5427 - accuracy: 0.7951\n",
            "288/288 [==============================] - 0s 961us/step - loss: 0.5425 - accuracy: 0.7940\n",
            "288/288 [==============================] - 0s 1ms/step - loss: 0.5823 - accuracy: 0.7962\n",
            "288/288 [==============================] - 0s 964us/step - loss: 0.5908 - accuracy: 0.7921\n",
            "288/288 [==============================] - 0s 979us/step - loss: 0.5488 - accuracy: 0.7944\n",
            "288/288 [==============================] - 0s 956us/step - loss: 0.5746 - accuracy: 0.7958\n",
            "288/288 [==============================] - 0s 956us/step - loss: 0.5708 - accuracy: 0.7947\n",
            "288/288 [==============================] - 0s 969us/step - loss: 0.5441 - accuracy: 0.7957\n",
            "288/288 [==============================] - 0s 1ms/step - loss: 0.5802 - accuracy: 0.7949\n",
            "288/288 [==============================] - 0s 981us/step - loss: 0.5681 - accuracy: 0.7962\n",
            "288/288 [==============================] - 0s 1ms/step - loss: 0.5691 - accuracy: 0.7967\n",
            "288/288 [==============================] - 0s 1ms/step - loss: 0.5676 - accuracy: 0.7951\n",
            "288/288 [==============================] - 0s 1ms/step - loss: 0.6214 - accuracy: 0.7956\n",
            "288/288 [==============================] - 0s 1ms/step - loss: 0.5902 - accuracy: 0.7912\n",
            "288/288 [==============================] - 0s 1ms/step - loss: 0.5812 - accuracy: 0.7942\n",
            "288/288 [==============================] - 0s 1ms/step - loss: 0.5858 - accuracy: 0.7965\n",
            "288/288 [==============================] - 0s 1ms/step - loss: 0.5741 - accuracy: 0.7958\n",
            "288/288 [==============================] - 0s 1ms/step - loss: 0.5824 - accuracy: 0.7958\n",
            "288/288 [==============================] - 0s 1ms/step - loss: 0.5794 - accuracy: 0.7961\n",
            "225/225 [==============================] - 0s 965us/step - loss: 0.6326 - accuracy: 0.7947\n",
            "225/225 [==============================] - 0s 972us/step - loss: 0.5811 - accuracy: 0.7936\n",
            "225/225 [==============================] - 0s 1ms/step - loss: 0.5764 - accuracy: 0.7954\n",
            "225/225 [==============================] - 0s 1ms/step - loss: 0.5742 - accuracy: 0.7974\n",
            "225/225 [==============================] - 0s 949us/step - loss: 0.5712 - accuracy: 0.7937\n",
            "225/225 [==============================] - 0s 960us/step - loss: 0.5846 - accuracy: 0.7940\n",
            "225/225 [==============================] - 0s 1ms/step - loss: 0.5747 - accuracy: 0.7954\n",
            "225/225 [==============================] - 0s 1ms/step - loss: 0.5934 - accuracy: 0.7951\n",
            "225/225 [==============================] - 0s 974us/step - loss: 0.5819 - accuracy: 0.7951\n",
            "225/225 [==============================] - 0s 1ms/step - loss: 0.5890 - accuracy: 0.7957\n",
            "225/225 [==============================] - 0s 995us/step - loss: 0.6315 - accuracy: 0.7944\n",
            "225/225 [==============================] - 0s 986us/step - loss: 0.5794 - accuracy: 0.7967\n",
            "225/225 [==============================] - 0s 987us/step - loss: 0.6351 - accuracy: 0.7944\n",
            "225/225 [==============================] - 0s 1ms/step - loss: 0.5883 - accuracy: 0.7956\n",
            "225/225 [==============================] - 0s 1ms/step - loss: 0.6334 - accuracy: 0.7933\n",
            "225/225 [==============================] - 0s 995us/step - loss: 0.6158 - accuracy: 0.7926\n",
            "225/225 [==============================] - 0s 980us/step - loss: 0.5864 - accuracy: 0.7969\n",
            "225/225 [==============================] - 0s 981us/step - loss: 0.5969 - accuracy: 0.7932\n",
            "225/225 [==============================] - 0s 964us/step - loss: 0.5861 - accuracy: 0.7956\n",
            "225/225 [==============================] - 0s 972us/step - loss: 0.5818 - accuracy: 0.7961\n",
            "225/225 [==============================] - 0s 999us/step - loss: 0.5630 - accuracy: 0.7971\n",
            "225/225 [==============================] - 0s 979us/step - loss: 0.5786 - accuracy: 0.7967\n",
            "225/225 [==============================] - 0s 980us/step - loss: 0.6187 - accuracy: 0.7936\n",
            "225/225 [==============================] - 0s 973us/step - loss: 0.5587 - accuracy: 0.7974\n",
            "225/225 [==============================] - 0s 955us/step - loss: 0.6197 - accuracy: 0.7919\n",
            "225/225 [==============================] - 0s 1ms/step - loss: 0.5875 - accuracy: 0.7933\n",
            "225/225 [==============================] - 0s 963us/step - loss: 0.6184 - accuracy: 0.7957\n",
            "225/225 [==============================] - 0s 974us/step - loss: 0.6187 - accuracy: 0.7943\n",
            "225/225 [==============================] - 0s 988us/step - loss: 0.5829 - accuracy: 0.7933\n",
            "225/225 [==============================] - 0s 1ms/step - loss: 0.5930 - accuracy: 0.7960\n",
            "225/225 [==============================] - 0s 1ms/step - loss: 0.5729 - accuracy: 0.7971\n",
            "225/225 [==============================] - 0s 1ms/step - loss: 0.5899 - accuracy: 0.7967\n",
            "225/225 [==============================] - 0s 953us/step - loss: 0.6037 - accuracy: 0.7937\n",
            "225/225 [==============================] - 0s 967us/step - loss: 0.5995 - accuracy: 0.7969\n",
            "225/225 [==============================] - 0s 978us/step - loss: 0.5932 - accuracy: 0.7922\n",
            "225/225 [==============================] - 0s 989us/step - loss: 0.5813 - accuracy: 0.7944\n",
            "225/225 [==============================] - 0s 1ms/step - loss: 0.6083 - accuracy: 0.7958\n",
            "225/225 [==============================] - 0s 1ms/step - loss: 0.5807 - accuracy: 0.7958\n",
            "225/225 [==============================] - 0s 1ms/step - loss: 0.6272 - accuracy: 0.7937\n",
            "225/225 [==============================] - 0s 1ms/step - loss: 0.5783 - accuracy: 0.7961\n",
            "225/225 [==============================] - 0s 996us/step - loss: 0.6001 - accuracy: 0.7943\n",
            "225/225 [==============================] - 0s 989us/step - loss: 0.5997 - accuracy: 0.7961\n",
            "225/225 [==============================] - 0s 986us/step - loss: 0.5816 - accuracy: 0.7946\n",
            "225/225 [==============================] - 0s 952us/step - loss: 0.5672 - accuracy: 0.7971\n",
            "225/225 [==============================] - 0s 985us/step - loss: 0.5753 - accuracy: 0.7929\n",
            "225/225 [==============================] - 0s 1ms/step - loss: 0.5685 - accuracy: 0.7944\n",
            "225/225 [==============================] - 0s 976us/step - loss: 0.5831 - accuracy: 0.7964\n",
            "225/225 [==============================] - 0s 1ms/step - loss: 0.5728 - accuracy: 0.7962\n",
            "225/225 [==============================] - 0s 974us/step - loss: 0.5706 - accuracy: 0.7929\n",
            "225/225 [==============================] - 0s 930us/step - loss: 0.5865 - accuracy: 0.7960\n",
            "225/225 [==============================] - 0s 1ms/step - loss: 0.6182 - accuracy: 0.7944\n",
            "225/225 [==============================] - 0s 972us/step - loss: 0.6130 - accuracy: 0.7971\n",
            "225/225 [==============================] - 0s 968us/step - loss: 0.5832 - accuracy: 0.7956\n",
            "225/225 [==============================] - 0s 997us/step - loss: 0.6252 - accuracy: 0.7946\n",
            "225/225 [==============================] - 0s 988us/step - loss: 0.5928 - accuracy: 0.7922\n",
            "225/225 [==============================] - 0s 991us/step - loss: 0.6070 - accuracy: 0.7943\n",
            "225/225 [==============================] - 0s 1ms/step - loss: 0.6121 - accuracy: 0.7956\n",
            "225/225 [==============================] - 0s 986us/step - loss: 0.6279 - accuracy: 0.7942\n",
            "225/225 [==============================] - 0s 1ms/step - loss: 0.6308 - accuracy: 0.7922\n",
            "225/225 [==============================] - 0s 946us/step - loss: 0.6127 - accuracy: 0.7954\n",
            "225/225 [==============================] - 0s 1ms/step - loss: 0.5576 - accuracy: 0.7971\n",
            "225/225 [==============================] - 0s 950us/step - loss: 0.6161 - accuracy: 0.7942\n",
            "225/225 [==============================] - 0s 992us/step - loss: 0.6032 - accuracy: 0.7939\n",
            "225/225 [==============================] - 0s 974us/step - loss: 0.5945 - accuracy: 0.7951\n",
            "225/225 [==============================] - 0s 1ms/step - loss: 0.5900 - accuracy: 0.7919\n",
            "225/225 [==============================] - 0s 1ms/step - loss: 0.5913 - accuracy: 0.7939\n",
            "225/225 [==============================] - 0s 1ms/step - loss: 0.5616 - accuracy: 0.7969\n",
            "225/225 [==============================] - 0s 1ms/step - loss: 0.5789 - accuracy: 0.7958\n",
            "225/225 [==============================] - 0s 1ms/step - loss: 0.5798 - accuracy: 0.7953\n",
            "225/225 [==============================] - 0s 1ms/step - loss: 0.5688 - accuracy: 0.7961\n",
            "225/225 [==============================] - 0s 1ms/step - loss: 0.6208 - accuracy: 0.7953\n",
            "225/225 [==============================] - 0s 1ms/step - loss: 0.5865 - accuracy: 0.7965\n",
            "225/225 [==============================] - 0s 1ms/step - loss: 0.6444 - accuracy: 0.7942\n",
            "225/225 [==============================] - 0s 1ms/step - loss: 0.6021 - accuracy: 0.7951\n",
            "225/225 [==============================] - 0s 1ms/step - loss: 0.6084 - accuracy: 0.7911\n",
            "225/225 [==============================] - 0s 1ms/step - loss: 0.5795 - accuracy: 0.7943\n",
            "225/225 [==============================] - 0s 1ms/step - loss: 0.5983 - accuracy: 0.7947\n",
            "225/225 [==============================] - 1s 2ms/step - loss: 0.5985 - accuracy: 0.7961\n",
            "225/225 [==============================] - 0s 2ms/step - loss: 0.6145 - accuracy: 0.7925\n",
            "225/225 [==============================] - 0s 2ms/step - loss: 0.5944 - accuracy: 0.7942\n",
            "500/500 [==============================] - 1s 1ms/step - loss: 0.5093 - accuracy: 0.7949\n",
            "{'batch_size': 16, 'nb_epoch': 50, 'optimizer': 'adam'}\n",
            "0.796\n"
          ],
          "name": "stdout"
        }
      ]
    }
  ]
}